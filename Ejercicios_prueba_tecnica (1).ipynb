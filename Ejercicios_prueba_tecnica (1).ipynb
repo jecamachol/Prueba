{
  "nbformat": 4,
  "nbformat_minor": 0,
  "metadata": {
    "colab": {
      "name": "Ejercicios prueba tecnica.ipynb",
      "provenance": [],
      "collapsed_sections": []
    },
    "kernelspec": {
      "name": "python3",
      "display_name": "Python 3"
    },
    "language_info": {
      "name": "python"
    }
  },
  "cells": [
    {
      "cell_type": "code",
      "metadata": {
        "colab": {
          "base_uri": "https://localhost:8080/"
        },
        "id": "jmwTvjEtZeQz",
        "outputId": "29a226f1-e25a-4e7b-a0f3-0a24d421616f"
      },
      "source": [
        "#punto 1\n",
        "import random\n",
        "\n",
        "num = int(input('Digite un numero entero: ')) #limites del intervalo donde van a estar los numeros\n",
        "\n",
        "lista = []\n",
        "count = 0\n",
        "\n",
        "while count < 20:   #este while genera una lista con 20 numeros aleatorios\n",
        "    a = random.randint(-num,num)\n",
        "    lista.append(a)\n",
        "    count +=1\n",
        "# print (sorted(lista))\n",
        "band = False\n",
        "while band == False: #este while ordena los numeros de la lista con el algoritmo bbuble sort\n",
        "    band = True \n",
        "    for i in range(len(lista)-1): #este for compara cada uno de sus elementos con el siguiente\n",
        "        if  lista[i] > lista[i+1]: \n",
        "            aux = lista[i]\n",
        "            lista[i] = lista[i+1]\n",
        "            lista[i+1] = aux\n",
        "            band = False\n",
        "\n",
        "print(lista)"
      ],
      "execution_count": 7,
      "outputs": [
        {
          "output_type": "stream",
          "name": "stdout",
          "text": [
            "Digite un numero entero: 500\n",
            "[-467, -452, -341, -311, -186, -97, -75, 128, 196, 231, 235, 264, 284, 315, 328, 348, 383, 444, 477, 477]\n"
          ]
        }
      ]
    },
    {
      "cell_type": "code",
      "metadata": {
        "colab": {
          "base_uri": "https://localhost:8080/"
        },
        "id": "NGknRK_hZZh2",
        "outputId": "e0145253-d992-4912-9c8f-02b155ed3dfc"
      },
      "source": [
        "#punto 2\n",
        "from itertools import permutations\n",
        "num = int(input('Digite un numero entero entre 1 y 9: '))\n",
        "lista = []\n",
        "count = 0\n",
        "if 1 <= num < 9 :\n",
        "    for i in range(num):\n",
        "        lista.append(i+1)\n",
        "else:\n",
        "    print(\"ingrese un numero valido\")        \n",
        "\n",
        "permutaciones = list(permutations(lista)) \n",
        "print(permutaciones)\n",
        "print(\"el cardinal del conjunto de permutaciones es n! por lo tanto la cantidad de permutaciones de este conjunto es:\")\n",
        "print(len(permutaciones))\n"
      ],
      "execution_count": 8,
      "outputs": [
        {
          "output_type": "stream",
          "name": "stdout",
          "text": [
            "Digite un numero entero entre 1 y 9: 3\n",
            "[(1, 2, 3), (1, 3, 2), (2, 1, 3), (2, 3, 1), (3, 1, 2), (3, 2, 1)]\n",
            "el cardinal del conjunto de permutaciones es n! por lo tanto la cantidad de permutaciones de este conjunto es:\n",
            "6\n"
          ]
        }
      ]
    },
    {
      "cell_type": "code",
      "metadata": {
        "colab": {
          "base_uri": "https://localhost:8080/",
          "height": 142
        },
        "id": "q_VkX4irZsG0",
        "outputId": "a543579c-66fc-41e9-9b7e-63742c7f70ca"
      },
      "source": [
        "#punto 3\n",
        "import pandas as pd\n",
        "datos = {'CC':[79,39,19],\n",
        "           'Nombre':[\"Juan Perez\",\"Gilma Perez\",\"Roberto Lopez\"],\n",
        "           'Direccion1':[\"KR 5 CL 9\",\"CL78 KR 7\",\"CL 90 KR 17\"],\n",
        "           'Direccion2':[\"CL67 KR 43\",\" \",\"KR 21 CL 85\"],\n",
        "           'Cel':[123,848,798],\n",
        "           'Cta1':[\"xyz\",\"cvb\",\"xgi\"],\n",
        "           'Sal1':[\"$ 12\",\"$ 33\",\"$14\"],\n",
        "           'Cta2':[\"abc\",\" \",\"qdm\"],\n",
        "           'Sal2':[\"$ 6\",\" \",\"$ 45\"],\n",
        "           'Cta3':[\" \",\" \",\"uio\"],\n",
        "           'Sal3':[\" \",\" \",\"$ 56\"]}\n",
        "datos = pd.DataFrame(datos, columns = [\"CC\",\n",
        "                                           \"Nombre\",\n",
        "                                           \"Direccion1\",\n",
        "                                           \"Direccion2\",\n",
        "                                           \"Cel\",\n",
        "                                           \"Cta1\",\n",
        "                                           \"Sal1\",\n",
        "                                           \"Cta2\",\n",
        "                                           \"Sal2\",\n",
        "                                           \"Cta3\",\n",
        "                                           \"Sal3\"] )\n",
        "datos"
      ],
      "execution_count": 9,
      "outputs": [
        {
          "output_type": "execute_result",
          "data": {
            "text/html": [
              "<div>\n",
              "<style scoped>\n",
              "    .dataframe tbody tr th:only-of-type {\n",
              "        vertical-align: middle;\n",
              "    }\n",
              "\n",
              "    .dataframe tbody tr th {\n",
              "        vertical-align: top;\n",
              "    }\n",
              "\n",
              "    .dataframe thead th {\n",
              "        text-align: right;\n",
              "    }\n",
              "</style>\n",
              "<table border=\"1\" class=\"dataframe\">\n",
              "  <thead>\n",
              "    <tr style=\"text-align: right;\">\n",
              "      <th></th>\n",
              "      <th>CC</th>\n",
              "      <th>Nombre</th>\n",
              "      <th>Direccion1</th>\n",
              "      <th>Direccion2</th>\n",
              "      <th>Cel</th>\n",
              "      <th>Cta1</th>\n",
              "      <th>Sal1</th>\n",
              "      <th>Cta2</th>\n",
              "      <th>Sal2</th>\n",
              "      <th>Cta3</th>\n",
              "      <th>Sal3</th>\n",
              "    </tr>\n",
              "  </thead>\n",
              "  <tbody>\n",
              "    <tr>\n",
              "      <th>0</th>\n",
              "      <td>79</td>\n",
              "      <td>Juan Perez</td>\n",
              "      <td>KR 5 CL 9</td>\n",
              "      <td>CL67 KR 43</td>\n",
              "      <td>123</td>\n",
              "      <td>xyz</td>\n",
              "      <td>$ 12</td>\n",
              "      <td>abc</td>\n",
              "      <td>$ 6</td>\n",
              "      <td></td>\n",
              "      <td></td>\n",
              "    </tr>\n",
              "    <tr>\n",
              "      <th>1</th>\n",
              "      <td>39</td>\n",
              "      <td>Gilma Perez</td>\n",
              "      <td>CL78 KR 7</td>\n",
              "      <td></td>\n",
              "      <td>848</td>\n",
              "      <td>cvb</td>\n",
              "      <td>$ 33</td>\n",
              "      <td></td>\n",
              "      <td></td>\n",
              "      <td></td>\n",
              "      <td></td>\n",
              "    </tr>\n",
              "    <tr>\n",
              "      <th>2</th>\n",
              "      <td>19</td>\n",
              "      <td>Roberto Lopez</td>\n",
              "      <td>CL 90 KR 17</td>\n",
              "      <td>KR 21 CL 85</td>\n",
              "      <td>798</td>\n",
              "      <td>xgi</td>\n",
              "      <td>$14</td>\n",
              "      <td>qdm</td>\n",
              "      <td>$ 45</td>\n",
              "      <td>uio</td>\n",
              "      <td>$ 56</td>\n",
              "    </tr>\n",
              "  </tbody>\n",
              "</table>\n",
              "</div>"
            ],
            "text/plain": [
              "   CC         Nombre   Direccion1   Direccion2  Cel  ...  Sal1 Cta2  Sal2 Cta3  Sal3\n",
              "0  79     Juan Perez    KR 5 CL 9   CL67 KR 43  123  ...  $ 12  abc   $ 6           \n",
              "1  39    Gilma Perez    CL78 KR 7               848  ...  $ 33                      \n",
              "2  19  Roberto Lopez  CL 90 KR 17  KR 21 CL 85  798  ...   $14  qdm  $ 45  uio  $ 56\n",
              "\n",
              "[3 rows x 11 columns]"
            ]
          },
          "metadata": {},
          "execution_count": 9
        }
      ]
    }
  ]
}